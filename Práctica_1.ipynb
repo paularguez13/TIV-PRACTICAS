{
 "cells": [
  {
   "cell_type": "markdown",
   "id": "a71673f3-1224-41d3-a0c8-c93d6f8e98ef",
   "metadata": {},
   "source": [
    "# Práctica 1"
   ]
  },
  {
   "cell_type": "code",
   "execution_count": null,
   "id": "a8eaf572-eb12-4e1c-84aa-dfc3a95d1e5f",
   "metadata": {},
   "outputs": [],
   "source": []
  }
 ],
 "metadata": {
  "kernelspec": {
   "display_name": "Python 3 (ipykernel)",
   "language": "python",
   "name": "python3"
  },
  "language_info": {
   "codemirror_mode": {
    "name": "ipython",
    "version": 3
   },
   "file_extension": ".py",
   "mimetype": "text/x-python",
   "name": "python",
   "nbconvert_exporter": "python",
   "pygments_lexer": "ipython3",
   "version": "3.11.4"
  }
 },
 "nbformat": 4,
 "nbformat_minor": 5
}
